{
 "cells": [
  {
   "cell_type": "code",
   "execution_count": 2,
   "id": "b5b4c8ac",
   "metadata": {},
   "outputs": [],
   "source": [
    "import pandas as pd"
   ]
  },
  {
   "cell_type": "code",
   "execution_count": 3,
   "id": "d623a156",
   "metadata": {},
   "outputs": [],
   "source": [
    "df = pd.read_csv(\"gamma_funds_20250611.csv\")"
   ]
  },
  {
   "cell_type": "code",
   "execution_count": 4,
   "id": "60dc41ac",
   "metadata": {},
   "outputs": [
    {
     "data": {
      "text/plain": [
       "(18737, 27)"
      ]
     },
     "execution_count": 4,
     "metadata": {},
     "output_type": "execute_result"
    }
   ],
   "source": [
    "df.shape"
   ]
  },
  {
   "cell_type": "code",
   "execution_count": 7,
   "id": "3dd00d72",
   "metadata": {},
   "outputs": [
    {
     "data": {
      "text/plain": [
       "array([0, 1])"
      ]
     },
     "execution_count": 7,
     "metadata": {},
     "output_type": "execute_result"
    }
   ],
   "source": [
    "df[\"is_universo_investibile\"].unique()"
   ]
  },
  {
   "cell_type": "code",
   "execution_count": 9,
   "id": "2de16587",
   "metadata": {},
   "outputs": [
    {
     "data": {
      "text/plain": [
       "(542, 27)"
      ]
     },
     "execution_count": 9,
     "metadata": {},
     "output_type": "execute_result"
    }
   ],
   "source": [
    "df_filtered = df[df[\"is_universo_investibile\"]==1]\n",
    "df_filtered.shape"
   ]
  },
  {
   "cell_type": "code",
   "execution_count": 12,
   "id": "cfed7ce3",
   "metadata": {},
   "outputs": [
    {
     "data": {
      "text/plain": [
       "array(['Azionarie', 'Bilanciate', 'Alternative', 'Obbligazionarie',\n",
       "       'Private Debt', 'Private Equity', 'not_available'], dtype=object)"
      ]
     },
     "execution_count": 12,
     "metadata": {},
     "output_type": "execute_result"
    }
   ],
   "source": [
    "df_filtered[\"asset_class_to_report\"].unique()"
   ]
  },
  {
   "cell_type": "code",
   "execution_count": 10,
   "id": "9a2fcfe5",
   "metadata": {},
   "outputs": [
    {
     "data": {
      "text/plain": [
       "Index(['Unnamed: 0', 'codiceProdotto_frontoffice', 'ISIN',\n",
       "       'nomeProdotto_frontoffice', 'divisa', 'tipoProdotto_frontoffice',\n",
       "       'Tipologia Prodotto', 'fund_code', 'Asset Class', 'income',\n",
       "       'multimanager', 'growth', 'lifestyle', 'ig_planning', 'protection',\n",
       "       'retirement', 'active_management', 'tax_optimization', 'esg',\n",
       "       'is_private_markets', 'expected_return', 'expected_volatility',\n",
       "       'minimum_lot', 'risk_level', 'asset_class_to_report',\n",
       "       'tipo_prodotto_to_report', 'is_universo_investibile'],\n",
       "      dtype='object')"
      ]
     },
     "execution_count": 10,
     "metadata": {},
     "output_type": "execute_result"
    }
   ],
   "source": [
    "df_filtered.columns"
   ]
  },
  {
   "cell_type": "code",
   "execution_count": null,
   "id": "2f7aeeaf",
   "metadata": {},
   "outputs": [],
   "source": [
    "[\n",
    "    \"Tipologia Prodotto\", \"Asset Class\", 'risk_level', 'income',\n",
    "    'multimanager', 'growth', 'lifestyle', 'ig_planning', 'protection',\n",
    "    'retirement', 'active_management', 'tax_optimization', 'esg'\n",
    "]"
   ]
  },
  {
   "cell_type": "code",
   "execution_count": null,
   "id": "98badcb3",
   "metadata": {},
   "outputs": [],
   "source": [
    "import pandas as pd\n",
    "import yfinance as yf\n",
    "\n",
    "def compute_historic_metrics(price_series: list, moving_averages: list = [50, 200]) -> dict:\n",
    "    \"\"\"\n",
    "    Compute key performance and risk metrics from a price series.\n",
    "\n",
    "    Parameters:\n",
    "    -----------\n",
    "    price_series : list\n",
    "        List of historical prices (daily).\n",
    "    moving_averages : list\n",
    "        List of periods for moving averages. Defaults to [50, 200].\n",
    "\n",
    "    Returns:\n",
    "    --------\n",
    "    dict\n",
    "        Dictionary of calculated metrics.\n",
    "    \"\"\"\n",
    "    prices = pd.Series(price_series)\n",
    "    returns = prices.pct_change().dropna()\n",
    "\n",
    "    # Metrics\n",
    "    cumulative_return = prices.iloc[-1] / prices.iloc[0] - 1\n",
    "    annualized_return = (1 + cumulative_return) ** (252 / len(prices)) - 1\n",
    "    volatility = returns.std() * np.sqrt(252)\n",
    "    max_drawdown = ((prices / prices.cummax()) - 1).min()\n",
    "\n",
    "    # Moving averages\n",
    "    # ma_dict = {f\"ma_{period}\": prices.rolling(period).mean().iloc[-1] for period in moving_averages}\n",
    "\n",
    "    return {\n",
    "        'cumulative_return': cumulative_return,\n",
    "        'annualized_return': annualized_return,\n",
    "        'annualized_volatility': volatility,\n",
    "        'max_drawdown': max_drawdown,\n",
    "    }\n",
    "\n",
    "def get_historical_cone(isin: str,\n",
    "                        period: str = \"5y\",\n",
    "                        interval: str = \"1mo\",\n",
    "                        date_format: str = \"%Y/%-m/%-d\") -> dict:\n",
    "    \"\"\"\n",
    "    Fetch daily historical price for a fund/security over a given period\n",
    "    and return it in a JSON-like structure suitable for charting or API responses.\n",
    "\n",
    "    Parameters:\n",
    "    -----------\n",
    "    isin : str\n",
    "        The ISIN or ticker symbol of the fund/security.\n",
    "    period : str\n",
    "        Data period to download (e.g., '1y', '5y', 'max'). Defaults to '5y'.\n",
    "    interval : str\n",
    "        Data interval (e.g., '1d', '1wk', '1mo'). Defaults to '1d' for daily data.\n",
    "    date_format : str\n",
    "        Python strftime format for output dates. Default '%Y/%-m/%-d' (e.g. '2025/6/17').\n",
    "\n",
    "    Returns:\n",
    "    --------\n",
    "    dict\n",
    "        {\n",
    "          'historical_cone': {\n",
    "              'values': [...],            # list of float prices\n",
    "              'time_period_dates': [...]  # list of formatted date strings\n",
    "          }\n",
    "        }\n",
    "    \"\"\"\n",
    "\n",
    "    # Download data\n",
    "    ticker = yf.Ticker(isin)\n",
    "    hist = ticker.history(period=period, interval=interval)\n",
    "    if hist.empty:\n",
    "        raise ValueError(f\"No historical data for ISIN/ticker: {isin}\")\n",
    "\n",
    "    # Use the 'Close' column\n",
    "    series = hist['Close'].dropna()\n",
    "\n",
    "    # Prepare output lists\n",
    "    values = series.tolist()\n",
    "    # Format dates; ensure month and day without leading zero where supported\n",
    "    dates = [date.strftime(date_format) for date in series.index]\n",
    "\n",
    "    metrics = compute_historic_metrics(values)\n",
    "\n",
    "    return {\"quantiles_data\": {\"real_data\" : values}, \"time_period_dates\": dates, \"statistics\": metrics}\n",
    "\n"
   ]
  },
  {
   "cell_type": "code",
   "execution_count": null,
   "id": "fd363434",
   "metadata": {},
   "outputs": [],
   "source": [
    "output[\"historic_cone\"] = get_historical_cone(isin=extracted_json[\"description\"][\"isin\"])\n"
   ]
  },
  {
   "cell_type": "code",
   "execution_count": null,
   "id": "331524db",
   "metadata": {},
   "outputs": [],
   "source": []
  }
 ],
 "metadata": {
  "kernelspec": {
   "display_name": "Python 3",
   "language": "python",
   "name": "python3"
  },
  "language_info": {
   "codemirror_mode": {
    "name": "ipython",
    "version": 3
   },
   "file_extension": ".py",
   "mimetype": "text/x-python",
   "name": "python",
   "nbconvert_exporter": "python",
   "pygments_lexer": "ipython3",
   "version": "3.10.10"
  }
 },
 "nbformat": 4,
 "nbformat_minor": 5
}
